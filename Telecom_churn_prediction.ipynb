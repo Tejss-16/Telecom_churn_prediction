{
  "nbformat": 4,
  "nbformat_minor": 0,
  "metadata": {
    "colab": {
      "provenance": [],
      "authorship_tag": "ABX9TyNeTi2J5HwpgLVP3pgai+CB",
      "include_colab_link": true
    },
    "kernelspec": {
      "name": "python3",
      "display_name": "Python 3"
    },
    "language_info": {
      "name": "python"
    }
  },
  "cells": [
    {
      "cell_type": "markdown",
      "metadata": {
        "id": "view-in-github",
        "colab_type": "text"
      },
      "source": [
        "<a href=\"https://colab.research.google.com/github/Tejss-16/Telecom_churn_prediction/blob/main/Telecom_churn_prediction.ipynb\" target=\"_parent\"><img src=\"https://colab.research.google.com/assets/colab-badge.svg\" alt=\"Open In Colab\"/></a>"
      ]
    },
    {
      "cell_type": "markdown",
      "source": [
        "# ***Task 1***"
      ],
      "metadata": {
        "id": "ZJGDyFbRHe6p"
      }
    },
    {
      "cell_type": "markdown",
      "source": [
        "**Data Collection**"
      ],
      "metadata": {
        "id": "13b6p8xmEpGP"
      }
    },
    {
      "cell_type": "code",
      "source": [
        "\n",
        "import pandas as pd\n",
        "import numpy as np\n",
        "\n",
        "df = pd.read_csv('telecom_churn_dataset.csv')\n",
        "\n",
        "print(\"First 5 rows:\")\n",
        "print(df.head(10))\n",
        "\n",
        "print(\"\\nSummary:\")\n",
        "print(df.info(10))\n",
        "\n",
        "print(\"\\nMissing values:\")\n",
        "print(df.isnull().sum())\n"
      ],
      "metadata": {
        "colab": {
          "base_uri": "https://localhost:8080/"
        },
        "id": "mDba9_PX_UGY",
        "outputId": "837baeb1-514b-472e-9f54-e34ee2fd418c"
      },
      "execution_count": 9,
      "outputs": [
        {
          "output_type": "stream",
          "name": "stdout",
          "text": [
            "First 5 rows:\n",
            "   customerID  gender  SeniorCitizen Partner Dependents  tenure PhoneService  \\\n",
            "0  7590-VHVEG  Female              0     Yes         No       1           No   \n",
            "1  5575-GNVDE    Male              0      No         No      34          Yes   \n",
            "2  3668-QPYBK    Male              0      No         No       2          Yes   \n",
            "3  7795-CFOCW    Male              0      No         No      45           No   \n",
            "4  9237-HQITU  Female              0      No         No       2          Yes   \n",
            "5  9305-CDSKC  Female              0      No         No       8          Yes   \n",
            "6  1452-KIOVK    Male              0      No        Yes      22          Yes   \n",
            "7  6713-OKOMC  Female              0      No         No      10           No   \n",
            "8  7892-POOKP  Female              0     Yes         No      28          Yes   \n",
            "9  6388-TABGU    Male              0      No        Yes      62          Yes   \n",
            "\n",
            "      MultipleLines InternetService OnlineSecurity  ... DeviceProtection  \\\n",
            "0  No phone service             DSL             No  ...               No   \n",
            "1                No             DSL            Yes  ...              Yes   \n",
            "2                No             DSL            Yes  ...               No   \n",
            "3  No phone service             DSL            Yes  ...              Yes   \n",
            "4                No     Fiber optic             No  ...               No   \n",
            "5               Yes     Fiber optic             No  ...              Yes   \n",
            "6               Yes     Fiber optic             No  ...               No   \n",
            "7  No phone service             DSL            Yes  ...               No   \n",
            "8               Yes     Fiber optic             No  ...              Yes   \n",
            "9                No             DSL            Yes  ...               No   \n",
            "\n",
            "  TechSupport StreamingTV StreamingMovies        Contract PaperlessBilling  \\\n",
            "0          No          No              No  Month-to-month              Yes   \n",
            "1          No          No              No        One year               No   \n",
            "2          No          No              No  Month-to-month              Yes   \n",
            "3         Yes          No              No        One year               No   \n",
            "4          No          No              No  Month-to-month              Yes   \n",
            "5          No         Yes             Yes  Month-to-month              Yes   \n",
            "6          No         Yes              No  Month-to-month              Yes   \n",
            "7          No          No              No  Month-to-month               No   \n",
            "8         Yes         Yes             Yes  Month-to-month              Yes   \n",
            "9          No          No              No        One year               No   \n",
            "\n",
            "               PaymentMethod MonthlyCharges  TotalCharges Churn  \n",
            "0           Electronic check          29.85         29.85    No  \n",
            "1               Mailed check          56.95        1889.5    No  \n",
            "2               Mailed check          53.85        108.15   Yes  \n",
            "3  Bank transfer (automatic)          42.30       1840.75    No  \n",
            "4           Electronic check          70.70        151.65   Yes  \n",
            "5           Electronic check          99.65         820.5   Yes  \n",
            "6    Credit card (automatic)          89.10        1949.4    No  \n",
            "7               Mailed check          29.75         301.9    No  \n",
            "8           Electronic check         104.80       3046.05   Yes  \n",
            "9  Bank transfer (automatic)          56.15       3487.95    No  \n",
            "\n",
            "[10 rows x 21 columns]\n",
            "\n",
            "Summary:\n",
            "<class 'pandas.core.frame.DataFrame'>\n",
            "RangeIndex: 7043 entries, 0 to 7042\n",
            "Data columns (total 21 columns):\n",
            " #   Column            Non-Null Count  Dtype  \n",
            "---  ------            --------------  -----  \n",
            " 0   customerID        7043 non-null   object \n",
            " 1   gender            7043 non-null   object \n",
            " 2   SeniorCitizen     7043 non-null   int64  \n",
            " 3   Partner           7043 non-null   object \n",
            " 4   Dependents        7043 non-null   object \n",
            " 5   tenure            7043 non-null   int64  \n",
            " 6   PhoneService      7043 non-null   object \n",
            " 7   MultipleLines     7043 non-null   object \n",
            " 8   InternetService   7043 non-null   object \n",
            " 9   OnlineSecurity    7043 non-null   object \n",
            " 10  OnlineBackup      7043 non-null   object \n",
            " 11  DeviceProtection  7043 non-null   object \n",
            " 12  TechSupport       7043 non-null   object \n",
            " 13  StreamingTV       7043 non-null   object \n",
            " 14  StreamingMovies   7043 non-null   object \n",
            " 15  Contract          7043 non-null   object \n",
            " 16  PaperlessBilling  7043 non-null   object \n",
            " 17  PaymentMethod     7043 non-null   object \n",
            " 18  MonthlyCharges    7043 non-null   float64\n",
            " 19  TotalCharges      7043 non-null   object \n",
            " 20  Churn             7043 non-null   object \n",
            "dtypes: float64(1), int64(2), object(18)\n",
            "memory usage: 1.1+ MB\n",
            "None\n",
            "\n",
            "Missing values:\n",
            "customerID          0\n",
            "gender              0\n",
            "SeniorCitizen       0\n",
            "Partner             0\n",
            "Dependents          0\n",
            "tenure              0\n",
            "PhoneService        0\n",
            "MultipleLines       0\n",
            "InternetService     0\n",
            "OnlineSecurity      0\n",
            "OnlineBackup        0\n",
            "DeviceProtection    0\n",
            "TechSupport         0\n",
            "StreamingTV         0\n",
            "StreamingMovies     0\n",
            "Contract            0\n",
            "PaperlessBilling    0\n",
            "PaymentMethod       0\n",
            "MonthlyCharges      0\n",
            "TotalCharges        0\n",
            "Churn               0\n",
            "dtype: int64\n"
          ]
        }
      ]
    },
    {
      "cell_type": "markdown",
      "source": [
        "**Cleaning dataset**"
      ],
      "metadata": {
        "id": "J6zHomWfG6eF"
      }
    },
    {
      "cell_type": "code",
      "source": [
        "# Convert 'TotalCharges' to numeric (invalid parsing will be set to NaN)\n",
        "df['TotalCharges'] = pd.to_numeric(df['TotalCharges'], errors='coerce')\n",
        "\n",
        "# Drop rows with any missing values (now including TotalCharges NaNs)\n",
        "df.dropna(inplace=True)\n",
        "\n",
        "# Drop customerID — it's just an identifier, not useful for prediction\n",
        "df.drop('customerID', axis=1, inplace=True)\n",
        "\n",
        "# Check again\n",
        "print(\"Remaining missing values:\")\n",
        "print(df.isnull().sum())\n"
      ],
      "metadata": {
        "colab": {
          "base_uri": "https://localhost:8080/"
        },
        "id": "Px5vp2hrAt-2",
        "outputId": "d58ea572-6c73-4759-c5e5-25907df48e71"
      },
      "execution_count": 10,
      "outputs": [
        {
          "output_type": "stream",
          "name": "stdout",
          "text": [
            "Remaining missing values:\n",
            "gender              0\n",
            "SeniorCitizen       0\n",
            "Partner             0\n",
            "Dependents          0\n",
            "tenure              0\n",
            "PhoneService        0\n",
            "MultipleLines       0\n",
            "InternetService     0\n",
            "OnlineSecurity      0\n",
            "OnlineBackup        0\n",
            "DeviceProtection    0\n",
            "TechSupport         0\n",
            "StreamingTV         0\n",
            "StreamingMovies     0\n",
            "Contract            0\n",
            "PaperlessBilling    0\n",
            "PaymentMethod       0\n",
            "MonthlyCharges      0\n",
            "TotalCharges        0\n",
            "Churn               0\n",
            "dtype: int64\n"
          ]
        }
      ]
    },
    {
      "cell_type": "markdown",
      "source": [
        "**label encoding**"
      ],
      "metadata": {
        "id": "3tInuZGPHKi0"
      }
    },
    {
      "cell_type": "code",
      "source": [
        "# Convert 'Churn' column to binary: Yes -> 1, No -> 0\n",
        "df['Churn'] = df['Churn'].map({'Yes': 1, 'No': 0})\n",
        "\n",
        "# Use one-hot encoding on categorical columns (like gender, payment method, etc.)\n",
        "df = pd.get_dummies(df, drop_first=True)\n",
        "\n",
        "# Preview the final DataFrame\n",
        "print(df.head())\n"
      ],
      "metadata": {
        "colab": {
          "base_uri": "https://localhost:8080/"
        },
        "id": "7uitD0uqBVWL",
        "outputId": "430ca785-2b9d-4993-eaf6-cf715a313c1f"
      },
      "execution_count": 11,
      "outputs": [
        {
          "output_type": "stream",
          "name": "stdout",
          "text": [
            "   SeniorCitizen  tenure  MonthlyCharges  TotalCharges  Churn  gender_Male  \\\n",
            "0              0       1           29.85         29.85      0        False   \n",
            "1              0      34           56.95       1889.50      0         True   \n",
            "2              0       2           53.85        108.15      1         True   \n",
            "3              0      45           42.30       1840.75      0         True   \n",
            "4              0       2           70.70        151.65      1        False   \n",
            "\n",
            "   Partner_Yes  Dependents_Yes  PhoneService_Yes  \\\n",
            "0         True           False             False   \n",
            "1        False           False              True   \n",
            "2        False           False              True   \n",
            "3        False           False             False   \n",
            "4        False           False              True   \n",
            "\n",
            "   MultipleLines_No phone service  ...  StreamingTV_No internet service  \\\n",
            "0                            True  ...                            False   \n",
            "1                           False  ...                            False   \n",
            "2                           False  ...                            False   \n",
            "3                            True  ...                            False   \n",
            "4                           False  ...                            False   \n",
            "\n",
            "   StreamingTV_Yes  StreamingMovies_No internet service  StreamingMovies_Yes  \\\n",
            "0            False                                False                False   \n",
            "1            False                                False                False   \n",
            "2            False                                False                False   \n",
            "3            False                                False                False   \n",
            "4            False                                False                False   \n",
            "\n",
            "   Contract_One year  Contract_Two year  PaperlessBilling_Yes  \\\n",
            "0              False              False                  True   \n",
            "1               True              False                 False   \n",
            "2              False              False                  True   \n",
            "3               True              False                 False   \n",
            "4              False              False                  True   \n",
            "\n",
            "   PaymentMethod_Credit card (automatic)  PaymentMethod_Electronic check  \\\n",
            "0                                  False                            True   \n",
            "1                                  False                           False   \n",
            "2                                  False                           False   \n",
            "3                                  False                           False   \n",
            "4                                  False                            True   \n",
            "\n",
            "   PaymentMethod_Mailed check  \n",
            "0                       False  \n",
            "1                        True  \n",
            "2                        True  \n",
            "3                       False  \n",
            "4                       False  \n",
            "\n",
            "[5 rows x 31 columns]\n"
          ]
        }
      ]
    },
    {
      "cell_type": "markdown",
      "source": [
        "**spliting dataset**"
      ],
      "metadata": {
        "id": "hqBOqtwVHakh"
      }
    },
    {
      "cell_type": "code",
      "source": [
        "from sklearn.model_selection import train_test_split\n",
        "\n",
        "# Split into input (X) and target (y)\n",
        "X = df.drop('Churn', axis=1)\n",
        "y = df['Churn']\n",
        "\n",
        "# Split into training and test sets (80/20)\n",
        "X_train, X_test, y_train, y_test = train_test_split(\n",
        "    X, y, test_size=0.2, random_state=42, stratify=y)\n",
        "\n",
        "print(\"X_train:\", X_train.shape)\n",
        "print(\"X_test:\", X_test.shape)\n",
        "print(\"y_train:\", y_train.shape)\n",
        "print(\"y_test:\", y_test.shape)\n",
        "\n"
      ],
      "metadata": {
        "colab": {
          "base_uri": "https://localhost:8080/"
        },
        "id": "syMdOsN3Bqj-",
        "outputId": "f828c7c3-a93d-431b-9ba0-301566751920"
      },
      "execution_count": 12,
      "outputs": [
        {
          "output_type": "stream",
          "name": "stdout",
          "text": [
            "X_train: (5625, 30)\n",
            "X_test: (1407, 30)\n",
            "y_train: (5625,)\n",
            "y_test: (1407,)\n"
          ]
        }
      ]
    }
  ]
}